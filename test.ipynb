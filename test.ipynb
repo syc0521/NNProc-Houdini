﻿{
 "cells": [
  {
   "cell_type": "code",
   "id": "initial_id",
   "metadata": {
    "collapsed": true,
    "ExecuteTime": {
     "end_time": "2025-09-27T15:45:57.142553Z",
     "start_time": "2025-09-27T15:45:57.138248Z"
    }
   },
   "source": [
    "import h5py\n",
    "import numpy as np\n",
    "\n",
    "\"\"\"\n",
    "    create_dataset ： 新建 dataset\n",
    "    create_group ： 新建 group\n",
    "\"\"\"\n",
    "\n",
    "x = np.arange(100)\n",
    "\n",
    "with h5py.File('test.hdf5','w') as f:\n",
    "    f.create_dataset('test_numpy',data=x)\n",
    "    subgroup = f.create_group('subgroup')\n",
    "    subgroup.create_dataset('test_numpy',data=x)\n",
    "    subsub = subgroup.create_group('subsub')\n",
    "    subsub.create_dataset('test_numpy',data=x)\n",
    "    f.close()"
   ],
   "outputs": [],
   "execution_count": 2
  },
  {
   "metadata": {
    "ExecuteTime": {
     "end_time": "2025-09-27T16:09:58.546439Z",
     "start_time": "2025-09-27T16:09:48.386616Z"
    }
   },
   "cell_type": "code",
   "source": [
    "import tqdm, time\n",
    "\n",
    "for i in tqdm.tqdm(range(100)):\n",
    "    time.sleep(.1)"
   ],
   "id": "e7706a5714d93352",
   "outputs": [
    {
     "name": "stderr",
     "output_type": "stream",
     "text": [
      "100%|██████████| 100/100 [00:10<00:00,  9.88it/s]\n"
     ]
    }
   ],
   "execution_count": 3
  }
 ],
 "metadata": {
  "kernelspec": {
   "display_name": "Python 3",
   "language": "python",
   "name": "python3"
  },
  "language_info": {
   "codemirror_mode": {
    "name": "ipython",
    "version": 2
   },
   "file_extension": ".py",
   "mimetype": "text/x-python",
   "name": "python",
   "nbconvert_exporter": "python",
   "pygments_lexer": "ipython2",
   "version": "2.7.6"
  }
 },
 "nbformat": 4,
 "nbformat_minor": 5
}
